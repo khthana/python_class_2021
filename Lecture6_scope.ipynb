{
 "cells": [
  {
   "cell_type": "code",
   "execution_count": null,
   "id": "32d8b77c",
   "metadata": {},
   "outputs": [],
   "source": [
    "#------------------------------------\n",
    "# เมื่อมีการใช้ function ปัญหาหนึ่งอาจเกิดขึ้น คือ\n",
    "# Scope\n",
    "#---------------------------------------\n",
    "\n",
    "#| Example 1: Single Definition\n",
    "\n",
    "x = 'global'\n",
    "def f():\n",
    "    def g():\n",
    "        print(x)\n",
    "    g()\n",
    "\n",
    "f()"
   ]
  },
  {
   "cell_type": "code",
   "execution_count": null,
   "id": "86b06c9f",
   "metadata": {},
   "outputs": [],
   "source": [
    "# Example 2: Double Definition มีการกำหนดตัวแปร x 2 ที่  \n",
    "# จะ print ค่าใด \n",
    "\n",
    "x = 'global'\n",
    "def f():\n",
    "    x = 'enclosing'\n",
    "\n",
    "    def g():\n",
    "        print(x)\n",
    "\n",
    "    g()\n",
    "\n",
    "f()\n"
   ]
  },
  {
   "cell_type": "code",
   "execution_count": null,
   "id": "df5b8ba7",
   "metadata": {},
   "outputs": [],
   "source": [
    "#| Example 3: Triple Definition มีการกำหนดตัวแปร x 3 ที่ \n",
    "# จะ print ค่าใด \n",
    "\n",
    "x = 'global'\n",
    "def f():\n",
    "    x = 'enclosing'\n",
    "    def g():\n",
    "        x = 'local'\n",
    "        print(x)\n",
    "    g()\n",
    "f()"
   ]
  },
  {
   "cell_type": "code",
   "execution_count": null,
   "id": "86ae2cf1",
   "metadata": {},
   "outputs": [],
   "source": [
    "#| Example 4: No Definition ไม่ได้กำหนดตัวแปร x\n",
    "\n",
    "def f():\n",
    "    def g():\n",
    "        print(x)\n",
    "    g()\n",
    "f()"
   ]
  },
  {
   "cell_type": "markdown",
   "id": "d2537b5b",
   "metadata": {},
   "source": [
    "#### LEGB\n",
    "\n",
    "- Local:       ถ้าตัวแปร x อยู่ภายใน function โปรแกรม python จะใช้ตัวแปรใน function (local)\n",
    "- Enclosing: ถ้าตัวแปร x ไม่อยู่ใน local scope แต่พบใน function ที่อยู่ใน function ด้านนอก,โปรแกรม python จะใช้ในตัวแปรใน enclosing function’s scope.\n",
    "- Global:     ถ้าตัวแปร x ไม่อยู่ทั้งใน local scope และ enclosing function’s scope โปรแกรม python จะค้นหาใน global เป็นลำดับต่อไป\n",
    "- Built-in:    ถ้าไม่พบตัวแปร x ในที่ใดๆ โปรแกรม python จะพยายามหาใน built-in scope"
   ]
  },
  {
   "cell_type": "code",
   "execution_count": null,
   "id": "0c5e3ebb",
   "metadata": {},
   "outputs": [],
   "source": [
    "#| Example 5: Local และ Enclosing Name Space ลำดับการทำงานใน Function ที่ Enclose\n",
    "\n",
    "def f():\n",
    "    print('Start f()')\n",
    "    def g():\n",
    "        print('Start g()')\n",
    "        print('End g()')\n",
    "        return\n",
    "    g()\n",
    "    print('End f()')\n",
    "    return\n",
    "\n",
    "f()"
   ]
  },
  {
   "cell_type": "code",
   "execution_count": null,
   "id": "a4e1aab4",
   "metadata": {},
   "outputs": [],
   "source": [
    "#| Example 6: ขอบเขตของตัวแปรแบบ local \n",
    "\n",
    "def square(base):\n",
    "    result = base ** 2\n",
    "    print(f'The square of {base} is: {result}')\n",
    "\n",
    "square(10)\n",
    "print(base)\n",
    "print(result)\n"
   ]
  },
  {
   "cell_type": "code",
   "execution_count": null,
   "id": "fb333488",
   "metadata": {},
   "outputs": [],
   "source": [
    "#| Example 7: ขอบเขตของตัวแปรแบบ local มีแค่ใน function ทำให้ใช้ซ้ำได้\n",
    "\n",
    "def square(base):\n",
    "    result = base ** 2\n",
    "    print(f'The square of {base} is: {result}')\n",
    "\n",
    "square(10)\n",
    "\n",
    "def cube(base):\n",
    "    result = base ** 3\n",
    "    print(f'The cube of {base} is: {result}')\n",
    "cube(30)"
   ]
  },
  {
   "cell_type": "code",
   "execution_count": null,
   "id": "0d416b92",
   "metadata": {},
   "outputs": [],
   "source": [
    "#| Example 8: หากแก้ไขตัวแปรแบบ global ใน function จะเกิดอะไรขึ้น \n",
    "\n",
    "var = 100  # A global variable\n",
    "def increment():\n",
    "    var = var + 1  # Try to update a global variable\n",
    "\n",
    "increment()"
   ]
  },
  {
   "cell_type": "code",
   "execution_count": null,
   "id": "284a3392",
   "metadata": {},
   "outputs": [],
   "source": [
    "#| Example 9: กรณีกำหนดตัวแปร Local แล้วอ้างถึง\n",
    "\n",
    "var = 100  # A global variable\n",
    "def func():\n",
    "    var = 200   # Define a new local variable using the same name, var    \n",
    "    print(var)  \n",
    "func()"
   ]
  },
  {
   "cell_type": "code",
   "execution_count": null,
   "id": "cbf3e1d3",
   "metadata": {},
   "outputs": [],
   "source": [
    "#| Example 9: กรณีอ้างถึงตัวแปร และ กำหนดตัวแปร Local ภายหลัง\n",
    "\n",
    "var = 100  # A global variable\n",
    "def func():\n",
    "    print(var)  # Reference the global variable, var    \n",
    "    var = 200   # Define a new local variable using the same name, var    \n",
    "func()"
   ]
  },
  {
   "cell_type": "code",
   "execution_count": null,
   "id": "c4024e65",
   "metadata": {},
   "outputs": [],
   "source": [
    "#| Example 10: การอ้างถึงตัวแปร global ภายใน function\n",
    "\n",
    "counter = 0  # A global name\n",
    "def update_counter():\n",
    "    counter = counter + 1  # Fail trying to update counter\n",
    "update_counter()"
   ]
  },
  {
   "cell_type": "code",
   "execution_count": null,
   "id": "25903748",
   "metadata": {},
   "outputs": [],
   "source": [
    "#| Example 10: การอ้างถึงตัวแปร Global ภายใน function โดยใช้ keyword : global \n",
    "\n",
    "counter = 0  # A global name\n",
    "def update_counter():\n",
    "    global counter  # Declare counter as global\n",
    "    counter = counter + 1  # Successfully update the counter\n",
    "\n",
    "update_counter()\n",
    "print (counter)\n",
    "update_counter()\n",
    "print (counter)\n",
    "update_counter()\n",
    "print (counter)"
   ]
  },
  {
   "cell_type": "code",
   "execution_count": null,
   "id": "f61dab55",
   "metadata": {},
   "outputs": [],
   "source": [
    "#| Example 11: การแก้ไขตัวแปร global โดยใช้การส่งค่าและ return จาก function\n",
    "\n",
    "global_counter = 0  # A global name\n",
    "def update_counter(counter):\n",
    "    return counter + 1  # Rely on a local name\n",
    "\n",
    "global_counter = update_counter(global_counter)\n",
    "print (global_counter)\n",
    "global_counter = update_counter(global_counter)\n",
    "print (global_counter)\n",
    "global_counter = update_counter(global_counter)\n",
    "print (global_counter)"
   ]
  },
  {
   "cell_type": "code",
   "execution_count": null,
   "id": "d1699512",
   "metadata": {},
   "outputs": [],
   "source": [
    "#| Example 12: การสร้างตัวแปร Global จากภายใน function\n",
    "\n",
    "def create_lazy_name():\n",
    "    global lazy  # Create a global name, lazy\n",
    "    lazy = 100\n",
    "    return lazy\n",
    "\n",
    "create_lazy_name()\n",
    "print(lazy)  # The name is now available in the global scope"
   ]
  },
  {
   "cell_type": "code",
   "execution_count": null,
   "id": "5c140c76",
   "metadata": {},
   "outputs": [],
   "source": [
    "#| Example 13: การแก้ไขตัวแปร Enclosing\n",
    "\n",
    "def func():\n",
    "    var = 100  # A nonlocal variable\n",
    "    def nested():\n",
    "        var += 100\n",
    "    nested()\n",
    "    print(var)\n",
    "func()"
   ]
  },
  {
   "cell_type": "code",
   "execution_count": null,
   "id": "60ccb6c2",
   "metadata": {},
   "outputs": [],
   "source": [
    "#| Example 13: การแก้ไขตัวแปร Enclosing โดยใช้คำสั่ง nonlocal \n",
    "\n",
    "def func():\n",
    "    var = 100  # A nonlocal variable\n",
    "    def nested():\n",
    "        nonlocal var  # Declare var as nonlocal\n",
    "        var += 100\n",
    "    nested()\n",
    "    print(var)\n",
    "func()"
   ]
  },
  {
   "cell_type": "code",
   "execution_count": null,
   "id": "01ca6c3c",
   "metadata": {},
   "outputs": [],
   "source": [
    "#| Example 14: แสดงการส่งกลับเป็น function ภายใน ซึ่งเป็น local function \n",
    "\n",
    "def power_factory(exp):\n",
    "    def power(base):\n",
    "        return base ** exp\n",
    "    return power\n",
    "\n",
    "square = power_factory(2)\n",
    "print(square(10))\n",
    "\n",
    "cube = power_factory(3)\n",
    "print(cube(10))\n",
    "\n",
    "print(cube(5))\n",
    "print(square(15))"
   ]
  },
  {
   "cell_type": "code",
   "execution_count": null,
   "id": "693595a5",
   "metadata": {},
   "outputs": [],
   "source": [
    "#| Example 15: แสดงการส่งกลับเป็น function ภายใน ซึ่งเป็น local function \n",
    "#| แสดงให้เห็นว่า number เป็น free variable สามารถเข้าถึงได้ในทุกระดับ \n",
    "#| จะเห็นว่ากรณีนี้ จะมีการเก็บข้อมูล sample เอาไว้ด้วย\n",
    "#| ซึ่งอาจทำให้สิ้นเปลืองหน่วยความจำ\n",
    "\n",
    "def mean():\n",
    "    sample = []\n",
    "    def _mean(number):\n",
    "        sample.append(number)\n",
    "        return sum(sample) / len(sample)\n",
    "    return _mean\n",
    "\n",
    "current_mean = mean()\n",
    "print(current_mean(10))\n",
    "\n",
    "print(current_mean(15))\n",
    "\n",
    "print(current_mean(12))\n",
    "\n",
    "print(current_mean(11))\n",
    "\n",
    "print(current_mean(13))"
   ]
  },
  {
   "cell_type": "code",
   "execution_count": null,
   "id": "cf9cdf66",
   "metadata": {},
   "outputs": [],
   "source": [
    "#| Example 16: แสดง version ที่ไม่เก็บข้อมูล list \n",
    "\n",
    "def mean():\n",
    "    total = 0\n",
    "    length = 0\n",
    "    def _mean(number):\n",
    "        nonlocal total, length\n",
    "        total += number\n",
    "        length += 1\n",
    "        return total / length\n",
    "    return _mean\n",
    "current_mean = mean()\n",
    "print(current_mean(10))\n",
    "\n",
    "print(current_mean(15))\n",
    "\n",
    "print(current_mean(12))\n",
    "\n",
    "print(current_mean(11))\n",
    "\n",
    "print(current_mean(13))\n",
    "\n",
    "\n"
   ]
  }
 ],
 "metadata": {
  "kernelspec": {
   "display_name": "Python 3 (ipykernel)",
   "language": "python",
   "name": "python3"
  },
  "language_info": {
   "codemirror_mode": {
    "name": "ipython",
    "version": 3
   },
   "file_extension": ".py",
   "mimetype": "text/x-python",
   "name": "python",
   "nbconvert_exporter": "python",
   "pygments_lexer": "ipython3",
   "version": "3.9.6"
  }
 },
 "nbformat": 4,
 "nbformat_minor": 5
}
