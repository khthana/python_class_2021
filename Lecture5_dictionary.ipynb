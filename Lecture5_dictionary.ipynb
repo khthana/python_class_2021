{
 "cells": [
  {
   "cell_type": "code",
   "execution_count": null,
   "id": "edd02dbd",
   "metadata": {},
   "outputs": [],
   "source": [
    "#---------------------------------------------------\n",
    "#* ในขณะที่ list เป็นโครงสร้างข้อมูลที่อ้างอิงโดย Index\n",
    "#* เป็นโครงสร้างข้อมูล ในลักษณะของการจับคู่ ซึ่งอ้างอิงโดย Key\n",
    "#* การใช้งานจะเป็นรูปแบบ {key : value, key : value}\n",
    "#---------------------------------------------------\n",
    "\n",
    "scores = {'james': 1828, 'thomas': 3628, 'danny': 9310}\n",
    "\n",
    "#---------------------------------------------------\n",
    "#* การเพิ่มข้อมูล จะระบุด้วย key\n",
    "#---------------------------------------------------\n",
    "scores['bobby'] = 4401\n",
    "\n",
    "#---------------------------------------------------\n",
    "#* การแสดงผล ใช้ key เป็นตัวอ้างอิง\n",
    "#---------------------------------------------------\n",
    "print('james =>', scores['james'])\n",
    "print('thomas =>', scores['thomas'])\n"
   ]
  },
  {
   "cell_type": "code",
   "execution_count": 2,
   "id": "a0b9ff30",
   "metadata": {},
   "outputs": [
    {
     "name": "stdout",
     "output_type": "stream",
     "text": [
      "{62001: ['Somsri Medee', 23, '4 Jun 2000', 'somsri@gmail.com', '066-12345678'], 62002: ['Somchai Madee', 24, '29 Feb 2000', 'somchai@gmail.com', '066-23456789']}\n",
      "['Somsri Medee', 23, '4 Jun 2000', 'somsri@gmail.com', '066-12345678']\n",
      "4 Jun 2000\n",
      "['Somsri Medee', 23, '4 Jun 2000', 'somsri@gmail.com', '066-12345678']\n",
      "dict_keys([62001, 62002])\n",
      "dict_values([['Somsri Medee', 23, '4 Jun 2000', 'somsri@gmail.com', '066-12345678'], ['Somchai Madee', 24, '29 Feb 2000', 'somchai@gmail.com', '066-23456789']])\n"
     ]
    }
   ],
   "source": [
    "#---------------------------------------------------\n",
    "#* กรณีที่ Value มีหลายจำนวน อาจใช้ Value เป็น List ได้\n",
    "#---------------------------------------------------\n",
    "\n",
    "std_info = {62001: [\"Somsri Medee\", 23, \"4 Jun 2000\", \"somsri@gmail.com\",\"066-12345678\"],\n",
    "                62002: [\"Somchai Madee\", 24, \"29 Feb 2000\", \"somchai@gmail.com\",\"066-23456789\"], \n",
    "           }\n",
    "\n",
    "print(std_info)\n",
    "print(std_info[62001])\n",
    "print(std_info[62001][2])      # อ้างถึง \"4 Jun 2000\"\n",
    "\n",
    "#---------------------------------------------------\n",
    "#* สามารถอ้างถึงแต่ละส่วนได้ ทั้ง keys และ value \n",
    "#---------------------------------------------------\n",
    "\n",
    "print(std_info[62001])\n",
    "print(std_info.keys())\n",
    "print(std_info.values())\n"
   ]
  },
  {
   "cell_type": "code",
   "execution_count": 3,
   "id": "1b168366",
   "metadata": {},
   "outputs": [
    {
     "name": "stdout",
     "output_type": "stream",
     "text": [
      "de\n",
      "ua\n",
      "th\n",
      "nl\n",
      "de Germany\n",
      "ua Ukraine\n",
      "th Thailand\n",
      "nl Netherlands\n",
      "Key: de ua th nl \n",
      "Value: Germany Ukraine Thailand Netherlands "
     ]
    }
   ],
   "source": [
    "#---------------------------------------------------\n",
    "#* Dictionary สามารถใช้กับ for loop ได้ \n",
    "#---------------------------------------------------\n",
    "\n",
    "countries = {'de': 'Germany', 'ua': 'Ukraine',\n",
    "             'th': 'Thailand', 'nl': 'Netherlands'}\n",
    "\n",
    "for i in countries:\n",
    "    print(i)\n",
    "\n",
    "for k, v in countries.items():\n",
    "    print(k, v)\n",
    "\n",
    "# iterate through keys\n",
    "print('Key:', end = ' ')\n",
    "for k in countries.keys():\n",
    "    print(k, end = ' ')\n",
    "\n",
    "# iterate through values\n",
    "print('\\nValue:', end = ' ')\n",
    "for v in countries.values():\n",
    "    print(v, end = ' ')\n",
    "    "
   ]
  },
  {
   "cell_type": "code",
   "execution_count": null,
   "id": "5e34efed",
   "metadata": {},
   "outputs": [],
   "source": [
    "### Example การรับข้อมูลเข้าสู่ Dictionary\n",
    "\n",
    "num = int(input(\"Enter the number of students:\"))\n",
    "dic = {}\n",
    "while num > 0:\n",
    "    idx = input(\"Enter your ID:\")\n",
    "    name = input(\"Enter your name:\")\n",
    "    age = input(\"Enter your age:\")\n",
    "    dic[idx] = [name, age]\n",
    "    num = num - 1\n",
    "#print all student members\n",
    "print(dic)\n",
    "#print each student member\n",
    "for data in dic:\n",
    "    print(dic[data])\n",
    "    "
   ]
  },
  {
   "cell_type": "code",
   "execution_count": null,
   "id": "29db5c6b",
   "metadata": {},
   "outputs": [],
   "source": [
    "# การค้นหาใน dictionary\n",
    "\n",
    "dic = {\"10110\":\"เขตคลองเตย\", \"50000\":\"อำเภอเมืองเชียงใหม่\", \"21000\":\"อำเภอเมืองระยอง\", \"40000\":\"อำเภอเมืองขอนแก่น\", \"83000\":\"อำเภอเมืองภูเก็ต\"}\n",
    "amphor = input(\"Enter your the code of amphor that would like to find :\")\n",
    "while amphor != \"exit\":\n",
    "    if dic[amphor]:\n",
    "        print(\"Name of this code is \", dic[amphor])\n",
    "    else:\n",
    "        print(\"This code is not in the database\")\n",
    "    amphor = input(\"Enter your the code of amphor that would like to find :\")\n",
    "print(\"Good bye...\")"
   ]
  },
  {
   "cell_type": "code",
   "execution_count": null,
   "id": "a7f4bc70",
   "metadata": {},
   "outputs": [],
   "source": []
  },
  {
   "cell_type": "code",
   "execution_count": null,
   "id": "da5736f2",
   "metadata": {},
   "outputs": [],
   "source": []
  }
 ],
 "metadata": {
  "kernelspec": {
   "display_name": "Python 3 (ipykernel)",
   "language": "python",
   "name": "python3"
  },
  "language_info": {
   "codemirror_mode": {
    "name": "ipython",
    "version": 3
   },
   "file_extension": ".py",
   "mimetype": "text/x-python",
   "name": "python",
   "nbconvert_exporter": "python",
   "pygments_lexer": "ipython3",
   "version": "3.9.6"
  }
 },
 "nbformat": 4,
 "nbformat_minor": 5
}
